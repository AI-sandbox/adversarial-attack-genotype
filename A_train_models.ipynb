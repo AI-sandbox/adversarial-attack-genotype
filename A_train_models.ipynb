{
 "cells": [
  {
   "cell_type": "markdown",
   "metadata": {},
   "source": [
    "# LAI-Net and Neural ADMIXTURE Training and Evaluation"
   ]
  },
  {
   "cell_type": "markdown",
   "metadata": {},
   "source": [
    "## Training Step\n"
   ]
  },
  {
   "cell_type": "markdown",
   "metadata": {},
   "source": [
    "### (0) Download the datasets from:\n",
    "\n",
    "### (1) Install LAI-Net and Neural admixture\n",
    "+ Neural ADMIXTURE: https://github.com/AI-sandbox/neural-admixture\n",
    "+ LAI-Net: https://github.com/AI-sandbox/LAI-Net\n",
    "\n",
    "### (2) Run the command to train LAI-Net from: https://github.com/AI-sandbox/LAI-Net\n",
    "\n",
    "### (3) Run the command to train Neural ADMIXTURE from: https://github.com/AI-sandbox/neural-admixture\n",
    "\n",
    "### (4) Copy the network paths into the following cell"
   ]
  },
  {
   "cell_type": "code",
   "execution_count": 1,
   "metadata": {},
   "outputs": [],
   "source": [
    "LAINET_PATH = 'lainet_trained.pth'\n",
    "NEURALADM_PATH = 'adv.pt'\n",
    "device = 'cpu'\n",
    "founders_vcf_file_path = 'founders_train.vcf'\n",
    "founders_map_file_path = 'founders_train.map'"
   ]
  },
  {
   "cell_type": "markdown",
   "metadata": {},
   "source": [
    "### Importing dependecies, loading dataset and networks"
   ]
  },
  {
   "cell_type": "code",
   "execution_count": 4,
   "metadata": {},
   "outputs": [
    {
     "name": "stdout",
     "output_type": "stream",
     "text": [
      "Start importing required libraries...\n",
      "Done importing, using pytorch version 1.12.1+cu102...\n"
     ]
    }
   ],
   "source": [
    "# Importing libraries\n",
    "print('Start importing required libraries...')\n",
    "import os, sys, time, allel, yaml, math, gzip, torch\n",
    "sys.path.append('../LAI-Net/')\n",
    "from tqdm.auto import tqdm\n",
    "import numpy as np\n",
    "import pandas as pd\n",
    "import matplotlib.pyplot as plt\n",
    "import torch.nn as nn\n",
    "import torch.nn.functional as F\n",
    "import torch.optim as optim\n",
    "from collections import Counter\n",
    "from scipy.interpolate import interp1d\n",
    "from lainet.utils.reader import load_founders_from_vcf_and_map\n",
    "print('Done importing, using pytorch version {}...'.format(torch.__version__))"
   ]
  },
  {
   "cell_type": "code",
   "execution_count": 5,
   "metadata": {},
   "outputs": [
    {
     "name": "stdout",
     "output_type": "stream",
     "text": [
      "Loading vcf and .map files...\n",
      "Done loading vcf and .map files...\n",
      "A total of 3200 diploid individuals where found in the vcf and .map\n",
      "A total of 8 ancestries where found: ['AFR' 'AHG' 'AMR' 'EAS' 'EUR' 'OCE' 'SAS' 'WAS']\n",
      "(1440, 516800) (1440,)\n"
     ]
    }
   ],
   "source": [
    "# Loading dataset\n",
    "snps_all, labels_all, _, _, ancestry_names, _ = load_founders_from_vcf_and_map(founders_vcf_file_path, founders_map_file_path, make_haploid=True, random_split=False, verbose=True)\n",
    "\n",
    "subset = 4\n",
    "snps, labels = snps_all[0::subset,:], labels_all[0::subset]\n",
    "print(snps.shape, labels.shape)"
   ]
  },
  {
   "cell_type": "code",
   "execution_count": 6,
   "metadata": {},
   "outputs": [
    {
     "name": "stdout",
     "output_type": "stream",
     "text": [
      "Loading LAI-Net from /local-scratch/mrivas/dmasmont/misc/lnpfoo/lainet_trained.pth ...\n",
      "Done loading LAI-Net\n"
     ]
    }
   ],
   "source": [
    "# Loading LAI-Net\n",
    "import lainet\n",
    "print(f'Loading LAI-Net from {LAINET_PATH} ...')\n",
    "LN = torch.load(LAINET_PATH, map_location=device)\n",
    "LN.device = device\n",
    "LN = LN.to(device)\n",
    "LN = LN.eval()\n",
    "print('Done loading LAI-Net')"
   ]
  },
  {
   "cell_type": "code",
   "execution_count": 7,
   "metadata": {},
   "outputs": [
    {
     "name": "stdout",
     "output_type": "stream",
     "text": [
      "Loading Neural ADMIXTURE from /local-scratch/mrivas/dmasmont/misc/lnpfoo/adv.pt ...\n",
      "Done loading Neural ADMIXTURE\n"
     ]
    }
   ],
   "source": [
    "# Loading Neural ADMIXTURE\n",
    "from neural_admixture.model.neural_admixture import NeuralAdmixture\n",
    "print(f'Loading Neural ADMIXTURE from {NEURALADM_PATH} ...')\n",
    "NADM= NeuralAdmixture([8], num_features=516800)\n",
    "NADM.load_state_dict(torch.load(NEURALADM_PATH, map_location=device), strict=True)\n",
    "NADM.device = device\n",
    "NADM = NADM.to(device)\n",
    "NADM = NADM.eval()\n",
    "print('Done loading Neural ADMIXTURE')"
   ]
  },
  {
   "cell_type": "markdown",
   "metadata": {},
   "source": [
    "### Dataset Evaluation"
   ]
  },
  {
   "cell_type": "code",
   "execution_count": 8,
   "metadata": {},
   "outputs": [
    {
     "name": "stdout",
     "output_type": "stream",
     "text": [
      "Evaluating LAI-Net\n",
      "AFR 0 Accuracy (%) is :  100.0\n",
      "AHG 1 Accuracy (%) is :  100.0\n",
      "AMR 2 Accuracy (%) is :  100.0\n",
      "EAS 3 Accuracy (%) is :  100.0\n",
      "EUR 4 Accuracy (%) is :  98.33333492279053\n",
      "OCE 5 Accuracy (%) is :  100.0\n",
      "SAS 6 Accuracy (%) is :  96.66666388511658\n",
      "WAS 7 Accuracy (%) is :  97.22222089767456\n",
      "Evaluating Neural ADMIXTURE\n",
      "AFR 0 Accuracy (%) is :  100.0\n",
      "AHG 1 Accuracy (%) is :  100.0\n",
      "AMR 2 Accuracy (%) is :  100.0\n",
      "EAS 3 Accuracy (%) is :  100.0\n",
      "EUR 4 Accuracy (%) is :  100.0\n",
      "OCE 5 Accuracy (%) is :  100.0\n",
      "SAS 6 Accuracy (%) is :  100.0\n",
      "WAS 7 Accuracy (%) is :  100.0\n"
     ]
    }
   ],
   "source": [
    "def forward_haploid(net, x, do_mean=True):\n",
    "    out_base = net.forward_base(x)\n",
    "    out_base = torch.stack([out_base, out_base], dim=3)\n",
    "    out = net.forward_smoother(out_base)[:,:,:,0]\n",
    "    if do_mean:\n",
    "        out = torch.mean(out, dim=2)\n",
    "    pred = torch.argmax(out, dim=1)\n",
    "    return out, pred\n",
    "\n",
    "\n",
    "def forward_nadm(nadm, x):\n",
    "    _, out = nadm(x)\n",
    "    prob = out[0]\n",
    "    pred = torch.argmax(prob, dim=1)\n",
    "    return prob, pred\n",
    "\n",
    "\n",
    "\n",
    "for net, forward_func, name in zip([LN, NADM], [forward_haploid, forward_nadm], ['LAI-Net', 'Neural ADMIXTURE']):\n",
    "    print(f'Evaluating {name}')\n",
    "    \n",
    "    for i, anc_name in zip(range(8), ancestry_names):\n",
    "        x = torch.tensor(snps[labels==i,:]).float().to(device)\n",
    "        y = torch.tensor(labels[labels==i]).long().to(device)\n",
    "        out, pred = forward_func(net, x)\n",
    "\n",
    "        if len(pred.shape) == 2:\n",
    "            y = y.unsqueeze(1).repeat(1,pred.shape[1])\n",
    "\n",
    "        acc = torch.mean((pred.flatten() == y.flatten()).float())\n",
    "        print(anc_name, i,'Accuracy (%) is : ', acc.item()*100)"
   ]
  }
 ],
 "metadata": {
  "kernelspec": {
   "display_name": "Python 3",
   "language": "python",
   "name": "python3"
  },
  "language_info": {
   "codemirror_mode": {
    "name": "ipython",
    "version": 3
   },
   "file_extension": ".py",
   "mimetype": "text/x-python",
   "name": "python",
   "nbconvert_exporter": "python",
   "pygments_lexer": "ipython3",
   "version": "3.9.7"
  }
 },
 "nbformat": 4,
 "nbformat_minor": 4
}
